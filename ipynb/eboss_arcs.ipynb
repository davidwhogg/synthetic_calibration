{
  "nbformat": 4,
  "nbformat_minor": 0,
  "metadata": {
    "colab": {
      "name": "eboss_arcs.ipynb",
      "provenance": [],
      "authorship_tag": "ABX9TyNFIBTtUZGQPrxMJdIIDcHT",
      "include_colab_link": true
    },
    "kernelspec": {
      "name": "python3",
      "display_name": "Python 3"
    },
    "language_info": {
      "name": "python"
    }
  },
  "cells": [
    {
      "cell_type": "markdown",
      "metadata": {
        "id": "view-in-github",
        "colab_type": "text"
      },
      "source": [
        "<a href=\"https://colab.research.google.com/github/davidwhogg/synthetic_calibration/blob/main/ipynb/eboss_arcs.ipynb\" target=\"_parent\"><img src=\"https://colab.research.google.com/assets/colab-badge.svg\" alt=\"Open In Colab\"/></a>"
      ]
    },
    {
      "cell_type": "markdown",
      "metadata": {
        "id": "qawil0PuWSIO"
      },
      "source": [
        "# Exploratory data analysis with *SDSS-IV eBOSS* arc exposures\n",
        "\n",
        "*by* **David W. Hogg**\n",
        "\n"
      ]
    },
    {
      "cell_type": "code",
      "metadata": {
        "id": "rnTL9hpXRgeS"
      },
      "source": [
        "import numpy as np\n",
        "import pylab as plt\n",
        "from matplotlib.backends.backend_pdf import PdfPages\n",
        "from astropy.io import fits\n",
        "from urllib.request import Request, urlopen, urlretrieve\n",
        "from bs4 import BeautifulSoup"
      ],
      "execution_count": null,
      "outputs": []
    },
    {
      "cell_type": "code",
      "metadata": {
        "id": "Zc2cr0U0RlYH"
      },
      "source": [
        "def make_boss_data_url(mjd):\n",
        "  return \"https://data.sdss.org/sas/dr16/eboss/spectro/data/{:05d}/\".format(mjd)\n",
        "\n",
        "def get_all_sdR_r1_urls(url):\n",
        "  \"\"\"\n",
        "  This code is overly specific!\n",
        "  \"\"\"\n",
        "  req = Request(url)\n",
        "  a = urlopen(req).read()\n",
        "  soup = BeautifulSoup(a, 'html.parser')\n",
        "  x = (soup.find_all('a'))\n",
        "  urls = []\n",
        "  for i in x:\n",
        "    file_name = i.extract().get_text()\n",
        "    if \"sdR-r1-\" in file_name:\n",
        "      url_new = url + file_name\n",
        "      # url_new = url_new.replace(\" \",\"%20\")\n",
        "      urls.append(url_new)\n",
        "  return np.unique(urls)\n",
        "\n",
        "def grab_all_arcs(mjd):\n",
        "  url = make_boss_data_url(mjd)\n",
        "  sdR_urls = get_all_sdR_r1_urls(url)\n",
        "  arcs = []\n",
        "  for url in sdR_urls:\n",
        "    hdu = fits.open(url)\n",
        "    if \"arc\" in hdu[0].header[\"FLAVOR\"]:\n",
        "      print(\"found arc\", url)\n",
        "      arcs.append((url, hdu[0].header, hdu[0].data))\n",
        "    hdu.close()\n",
        "    del hdu\n",
        "  print(\"found a total of {} arcs\".format(len(arcs)))\n",
        "  return arcs"
      ],
      "execution_count": null,
      "outputs": []
    },
    {
      "cell_type": "code",
      "metadata": {
        "id": "-IsDxdqmV4dY"
      },
      "source": [
        "arcs = []\n",
        "for mjd in (58539, 58541):\n",
        "  arcs += grab_all_arcs(mjd)"
      ],
      "execution_count": null,
      "outputs": []
    },
    {
      "cell_type": "code",
      "metadata": {
        "id": "z964BVxxW2dO"
      },
      "source": [
        "for url, hdr, image in arcs:\n",
        "  print(image.size, np.min(image), np.max(image))\n"
      ],
      "execution_count": null,
      "outputs": []
    },
    {
      "cell_type": "code",
      "metadata": {
        "id": "XumHQ28kSvFp"
      },
      "source": [
        "with PdfPages('boss_arc_zoom.pdf') as pdf:\n",
        "  for url, hdr, image in arcs:\n",
        "    subimage = image[1700:1900, 1500:1700].astype(float)\n",
        "    subimage -= np.median(subimage)\n",
        "    if (np.max(subimage) - np.min(subimage)) > 30.:\n",
        "      fig = plt.figure(figsize=(12, 9))\n",
        "      plt.imshow(subimage, vmin=-30, vmax=30.0,\n",
        "                 cmap=\"gray\", interpolation=\"nearest\")\n",
        "      plt.colorbar()\n",
        "      plt.title(url)\n",
        "      pdf.savefig(fig)\n",
        "      plt.close(fig)"
      ],
      "execution_count": null,
      "outputs": []
    },
    {
      "cell_type": "code",
      "metadata": {
        "id": "UdaZWjhCUCvx"
      },
      "source": [
        ""
      ],
      "execution_count": null,
      "outputs": []
    }
  ]
}